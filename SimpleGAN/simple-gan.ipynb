{
 "cells": [
  {
   "cell_type": "code",
   "execution_count": 1,
   "id": "d4cbc7a8",
   "metadata": {
    "execution": {
     "iopub.execute_input": "2024-05-20T03:25:28.722092Z",
     "iopub.status.busy": "2024-05-20T03:25:28.721335Z",
     "iopub.status.idle": "2024-05-20T03:25:35.927679Z",
     "shell.execute_reply": "2024-05-20T03:25:35.926720Z"
    },
    "papermill": {
     "duration": 7.214091,
     "end_time": "2024-05-20T03:25:35.929996",
     "exception": false,
     "start_time": "2024-05-20T03:25:28.715905",
     "status": "completed"
    },
    "tags": []
   },
   "outputs": [],
   "source": [
    "import os\n",
    "import random\n",
    "from tqdm import tqdm\n",
    "from datetime import datetime\n",
    "from collections import deque\n",
    "\n",
    "import numpy as np\n",
    "from PIL import Image\n",
    "import matplotlib.pyplot as plt\n",
    "from sklearn.model_selection import train_test_split\n",
    "\n",
    "import torch\n",
    "import torch.nn as nn\n",
    "import torch.optim as optim\n",
    "import torch.nn.functional as F\n",
    "import torchvision.models as models\n",
    "from torch.autograd import Variable, grad\n",
    "\n",
    "import torchvision.transforms as transforms\n",
    "# import torchvision.transforms.v2 as v2\n",
    "# import albumentations as A\n",
    "# from albumentations.pytorch import ToTensorV2\n",
    "\n",
    "from torch.utils.data import Subset\n",
    "from torch.utils.data import DataLoader, Dataset"
   ]
  },
  {
   "cell_type": "code",
   "execution_count": 2,
   "id": "5f4889e2",
   "metadata": {
    "execution": {
     "iopub.execute_input": "2024-05-20T03:25:35.940188Z",
     "iopub.status.busy": "2024-05-20T03:25:35.938436Z",
     "iopub.status.idle": "2024-05-20T03:25:36.478599Z",
     "shell.execute_reply": "2024-05-20T03:25:36.477354Z"
    },
    "papermill": {
     "duration": 0.546209,
     "end_time": "2024-05-20T03:25:36.480193",
     "exception": true,
     "start_time": "2024-05-20T03:25:35.933984",
     "status": "failed"
    },
    "tags": []
   },
   "outputs": [
    {
     "name": "stdout",
     "output_type": "stream",
     "text": [
      "Device: cuda\n"
     ]
    }
   ],
   "source": [
    "debug_mode = True\n",
    "\n",
    "device = torch.device('cuda' if torch.cuda.is_available() else 'cpu')\n",
    "print(f\"Device: {device}\")\n",
    "\n",
    "input_root_dir = \"../data/\"\n",
    "output_root_dir = \"./\"\n",
    "\n",
    "unlabeled_image_dir = input_root_dir + \"unlabeled/\"\n",
    "labeled_image_dir = input_root_dir + \"train/image/\"\n",
    "labeled_mask_dir = input_root_dir + \"train/label/\"\n",
    "test_image_dir = input_root_dir + \"test/image/\"\n",
    "\n",
    "date_time = datetime.now().strftime(\"%m_%d_%H_%M_%S\")\n",
    "if debug_mode:\n",
    "    date_time = \"today\"\n",
    "    \n",
    "current_output_dir = output_root_dir + f\"{date_time}/\"\n",
    "os.makedirs(current_output_dir, exist_ok=True)\n",
    "\n",
    "weights_save_dir = current_output_dir + \"model_weights/\"\n",
    "os.makedirs(weights_save_dir, exist_ok=True)\n",
    "\n",
    "test_output_dir = current_output_dir + \"outputs/\""
   ]
  },
  {
   "cell_type": "code",
   "execution_count": 3,
   "id": "40a67221",
   "metadata": {
    "execution": {
     "iopub.execute_input": "2024-05-19T21:19:08.910975Z",
     "iopub.status.busy": "2024-05-19T21:19:08.910614Z",
     "iopub.status.idle": "2024-05-19T21:19:08.943673Z",
     "shell.execute_reply": "2024-05-19T21:19:08.942969Z",
     "shell.execute_reply.started": "2024-05-19T21:19:08.910940Z"
    },
    "papermill": {
     "duration": null,
     "end_time": null,
     "exception": null,
     "start_time": null,
     "status": "pending"
    },
    "tags": []
   },
   "outputs": [],
   "source": [
    "class CustomDataset(Dataset):\n",
    "    def __init__(self, image_dir, mask_dir=None, transform=None, mask_transform=None, crop_size=(512, 512)):\n",
    "        self.image_dir = image_dir\n",
    "        self.mask_dir = mask_dir\n",
    "        \n",
    "        self.transform = transform\n",
    "        self.mask_transform = mask_transform\n",
    "        \n",
    "        self.image_paths = sorted(os.listdir(image_dir))\n",
    "        self.mask_paths = sorted(os.listdir(mask_dir)) if mask_dir else None\n",
    "        self.crop_size = crop_size\n",
    "\n",
    "    def __len__(self):\n",
    "        return len(self.image_paths)\n",
    "\n",
    "    def __getitem__(self, idx):\n",
    "        image_path = os.path.join(self.image_dir, self.image_paths[idx])\n",
    "        image = Image.open(image_path).convert(\"RGB\")\n",
    "        \n",
    "        if self.mask_paths:\n",
    "            mask_path = os.path.join(self.mask_dir, self.mask_paths[idx])\n",
    "            mask = np.load(mask_path)  # Load mask from NPY file\n",
    "\n",
    "            # Convert integer mask to one-hot encoded tensor\n",
    "            mask_onehot = np.zeros((*mask.shape, 3))  # For 3 classes\n",
    "            for i in range(1, 4):  # For classes 1, 2, 3\n",
    "                mask_onehot[..., i-1][mask == i] = 1\n",
    "\n",
    "            mask = Image.fromarray(mask_onehot.astype(np.uint8))  # Convert to PIL Image for transformations\n",
    "            \n",
    "            \n",
    "            # Random horizontal flip\n",
    "            if random.random() > 0.5:\n",
    "                image = transforms.functional.hflip(image)\n",
    "                mask  = transforms.functional.hflip(mask)\n",
    "\n",
    "            # Random rotation\n",
    "            angle = random.uniform(-180, 180)\n",
    "            image = transforms.functional.rotate(image, angle)\n",
    "            mask = transforms.functional.rotate(mask, angle)\n",
    "\n",
    "            # Random crop both image and mask\n",
    "            i, j, h, w = transforms.RandomCrop.get_params(image, output_size=self.crop_size)\n",
    "            image = transforms.functional.crop(image, i, j, h, w)\n",
    "            mask  = transforms.functional.crop(mask, i, j, h, w)\n",
    "\n",
    "            image = self.transform(image)\n",
    "            mask  = self.mask_transform(mask)\n",
    "\n",
    "            return image, mask\n",
    "        else:\n",
    "            # Random horizontal flip\n",
    "            if random.random() > 0.5:\n",
    "                image = transforms.functional.hflip(image)\n",
    "\n",
    "            # Random rotation\n",
    "            angle = random.uniform(-180, 180)\n",
    "            image = transforms.functional.rotate(image, angle)\n",
    "\n",
    "            # Random crop the image\n",
    "            i, j, h, w = transforms.RandomCrop.get_params(image, output_size=self.crop_size)\n",
    "            image = transforms.functional.crop(image, i, j, h, w)\n",
    "\n",
    "            image = self.transform(image)\n",
    "            \n",
    "            return image, image_path\n",
    "        \n",
    "        \n",
    "image_transform = transforms.Compose([\n",
    "    transforms.ToTensor(),\n",
    "    transforms.Normalize(mean=[0.485, 0.456, 0.406], std=[0.229, 0.224, 0.225]),\n",
    "])\n",
    "\n",
    "mask_transform = transforms.Compose([\n",
    "    transforms.ToTensor(),\n",
    "])\n",
    "\n",
    "\n",
    "unlabeled_dataset = CustomDataset(image_dir=unlabeled_image_dir, transform=image_transform)\n",
    "labeled_dataset = CustomDataset(image_dir=labeled_image_dir, mask_dir=labeled_mask_dir, transform=image_transform, mask_transform=mask_transform)\n",
    "test_dataset = CustomDataset(image_dir=test_image_dir, transform=image_transform)\n",
    "\n",
    "# Split labeled dataset into train and validation sets\n",
    "train_indices, val_indices = train_test_split(list(range(len(labeled_dataset))), test_size=0.3, random_state=42)\n",
    "train_dataset = Subset(labeled_dataset, train_indices)\n",
    "val_dataset = Subset(labeled_dataset, val_indices)\n",
    "\n",
    "unlabeled_loader = DataLoader(unlabeled_dataset, batch_size=24, shuffle=True)\n",
    "train_loader = DataLoader(train_dataset, batch_size=8, shuffle=True)\n",
    "val_loader = DataLoader(val_dataset, batch_size=8, shuffle=False)\n",
    "test_loader = DataLoader(test_dataset, batch_size=1, shuffle=False)"
   ]
  },
  {
   "cell_type": "code",
   "execution_count": 4,
   "id": "c93df88e",
   "metadata": {
    "_kg_hide-input": true,
    "execution": {
     "iopub.execute_input": "2024-05-19T21:19:08.944933Z",
     "iopub.status.busy": "2024-05-19T21:19:08.944672Z",
     "iopub.status.idle": "2024-05-19T21:19:08.949652Z",
     "shell.execute_reply": "2024-05-19T21:19:08.948735Z",
     "shell.execute_reply.started": "2024-05-19T21:19:08.944898Z"
    },
    "papermill": {
     "duration": null,
     "end_time": null,
     "exception": null,
     "start_time": null,
     "status": "pending"
    },
    "tags": []
   },
   "outputs": [],
   "source": [
    "# # sanity check for first sample\n",
    "# itr = 0\n",
    "# for i, (images, img_path) in enumerate(unlabeled_loader):\n",
    "#     normalized_image = images[0].permute(1, 2, 0).cpu().numpy()  # Permute to (H, W, C) format\n",
    "    \n",
    "#     original = (normalized_image * 0.229 + 0.485).clip(0, 1)  # Reverse normalization\n",
    "#     noisy_image = normalized_image + 0.1 * np.random.randn(*normalized_image.shape)\n",
    "    \n",
    "#     fig, axes = plt.subplots(1, 3, figsize=(15, 5))\n",
    "#     axes[0].imshow(original)\n",
    "#     axes[0].set_title('Original')\n",
    "#     axes[0].axis('off')\n",
    "    \n",
    "#     axes[1].imshow(normalized_image)\n",
    "#     axes[1].set_title('Normalized')\n",
    "#     axes[1].axis('off')\n",
    "    \n",
    "#     axes[2].imshow(noisy_image)\n",
    "#     axes[2].set_title('Noisy')\n",
    "#     axes[2].axis('off')\n",
    "\n",
    "#     plt.show()\n",
    "\n",
    "#     itr += 1\n",
    "#     if itr > 5:\n",
    "#         break"
   ]
  },
  {
   "cell_type": "markdown",
   "id": "0924f1c9",
   "metadata": {
    "papermill": {
     "duration": null,
     "end_time": null,
     "exception": null,
     "start_time": null,
     "status": "pending"
    },
    "tags": []
   },
   "source": [
    "**Labels:** \\\n",
    "Vitrinite: 1 (red channel) \\\n",
    "Inertinite: 2 (green channel) \\\n",
    "Liptinite: 3 (blue channel)"
   ]
  },
  {
   "cell_type": "code",
   "execution_count": 5,
   "id": "3d544c68",
   "metadata": {
    "execution": {
     "iopub.execute_input": "2024-05-19T21:19:08.952095Z",
     "iopub.status.busy": "2024-05-19T21:19:08.951742Z",
     "iopub.status.idle": "2024-05-19T21:19:08.961554Z",
     "shell.execute_reply": "2024-05-19T21:19:08.960766Z",
     "shell.execute_reply.started": "2024-05-19T21:19:08.952056Z"
    },
    "papermill": {
     "duration": null,
     "end_time": null,
     "exception": null,
     "start_time": null,
     "status": "pending"
    },
    "tags": []
   },
   "outputs": [],
   "source": [
    "# # sanity check for first sample\n",
    "# itr = 0\n",
    "# for i, (images, masks) in enumerate(train_loader):\n",
    "#     normalized_image = images[0].cpu().numpy().transpose((1, 2, 0))\n",
    "#     mask = masks[0].cpu().numpy().transpose((1, 2, 0))\n",
    "\n",
    "#     original = (normalized_image * 0.229 + 0.485).clip(0, 1)\n",
    "#     mask *= 255\n",
    "\n",
    "#     fig, axes = plt.subplots(1, 3, figsize=(15, 5))\n",
    "#     axes[0].imshow(original)\n",
    "#     axes[0].set_title('Original Image')\n",
    "#     axes[0].axis('off')\n",
    "    \n",
    "#     axes[1].imshow(normalized_image)\n",
    "#     axes[1].set_title('Normalized')\n",
    "#     axes[1].axis('off')\n",
    "\n",
    "#     axes[2].imshow(mask, cmap='gray')\n",
    "#     axes[2].set_title('True Mask')\n",
    "#     axes[2].axis('off')\n",
    "\n",
    "#     plt.show()\n",
    "    \n",
    "#     itr += 1\n",
    "#     if itr > 5:\n",
    "#         break"
   ]
  },
  {
   "cell_type": "code",
   "execution_count": 6,
   "id": "202138cd",
   "metadata": {
    "execution": {
     "iopub.execute_input": "2024-05-19T21:19:08.963048Z",
     "iopub.status.busy": "2024-05-19T21:19:08.962751Z",
     "iopub.status.idle": "2024-05-19T21:19:08.994349Z",
     "shell.execute_reply": "2024-05-19T21:19:08.993352Z",
     "shell.execute_reply.started": "2024-05-19T21:19:08.963026Z"
    },
    "papermill": {
     "duration": null,
     "end_time": null,
     "exception": null,
     "start_time": null,
     "status": "pending"
    },
    "tags": []
   },
   "outputs": [],
   "source": [
    "class Generator(nn.Module):\n",
    "    def __init__(self, latent_dim=1024):\n",
    "        super(Generator, self).__init__()\n",
    "        \n",
    "        # Initial size before upsampling\n",
    "        self.init_size = 4  \n",
    "        # Fully connected layer to reshape the latent vector to a feature map\n",
    "        self.l1 = nn.Sequential(nn.Linear(latent_dim, 512 * self.init_size * self.init_size))\n",
    "\n",
    "        # Convolutional blocks for upsampling and feature transformation\n",
    "        self.conv_blocks = nn.Sequential(\n",
    "            # Block 1: Input size -> (512, 4, 4)\n",
    "            nn.Conv2d(512, 512, 3, padding=1),\n",
    "            nn.LeakyReLU(0.2, inplace=True),\n",
    "            nn.Conv2d(512, 512, 3, padding=1),\n",
    "            nn.LeakyReLU(0.2, inplace=True),\n",
    "            nn.Upsample(scale_factor=2),  # (512, 8, 8)\n",
    "\n",
    "            # Block 2: Input size -> (512, 8, 8)\n",
    "            nn.Conv2d(512, 512, 3, padding=1),\n",
    "            nn.LeakyReLU(0.2, inplace=True),\n",
    "            nn.Conv2d(512, 512, 3, padding=1),\n",
    "            nn.LeakyReLU(0.2, inplace=True),\n",
    "            nn.Upsample(scale_factor=2),  # (512, 16, 16)\n",
    "\n",
    "            # Block 3: Input size -> (512, 16, 16)\n",
    "            nn.Conv2d(512, 512, 3, padding=1),\n",
    "            nn.LeakyReLU(0.2, inplace=True),\n",
    "            nn.Conv2d(512, 512, 3, padding=1),\n",
    "            nn.LeakyReLU(0.2, inplace=True),\n",
    "            nn.Upsample(scale_factor=2),  # (512, 32, 32)\n",
    "\n",
    "            # Block 4: Input size -> (512, 32, 32)\n",
    "            nn.Conv2d(512, 512, 3, padding=1),\n",
    "            nn.LeakyReLU(0.2, inplace=True),\n",
    "            nn.Conv2d(512, 512, 3, padding=1),\n",
    "            nn.LeakyReLU(0.2, inplace=True),\n",
    "            nn.Upsample(scale_factor=2),  # (512, 64, 64)\n",
    "\n",
    "            # Block 5: Input size -> (512, 64, 64)\n",
    "            nn.Conv2d(512, 256, 3, padding=1),\n",
    "            nn.LeakyReLU(0.2, inplace=True),\n",
    "            nn.Conv2d(256, 256, 3, padding=1),\n",
    "            nn.LeakyReLU(0.2, inplace=True),\n",
    "            nn.Upsample(scale_factor=2),  # (256, 128, 128)\n",
    "\n",
    "            # Block 6: Input size -> (256, 128, 128)\n",
    "            nn.Conv2d(256, 128, 3, padding=1),\n",
    "            nn.LeakyReLU(0.2, inplace=True),\n",
    "            nn.Conv2d(128, 128, 3, padding=1),\n",
    "            nn.LeakyReLU(0.2, inplace=True),\n",
    "            nn.Upsample(scale_factor=2),  # (128, 256, 256)\n",
    "\n",
    "            # Block 7: Input size -> (128, 256, 256)\n",
    "            nn.Conv2d(128, 64, 3, padding=1),\n",
    "            nn.LeakyReLU(0.2, inplace=True),\n",
    "            nn.Conv2d(64, 64, 3, padding=1),\n",
    "            nn.LeakyReLU(0.2, inplace=True),\n",
    "            nn.Upsample(scale_factor=2),  # (64, 512, 512)\n",
    "\n",
    "            # Block 8: Input size -> (64, 512, 512)\n",
    "            nn.Conv2d(64, 32, 3, padding=1),\n",
    "            nn.LeakyReLU(0.2, inplace=True),\n",
    "            nn.Conv2d(32, 32, 3, padding=1),\n",
    "            nn.LeakyReLU(0.2, inplace=True),\n",
    "\n",
    "            # Final upsample to get (32, 1024, 1024) if required but skipped here\n",
    "            # nn.Upsample(scale_factor=2),\n",
    "\n",
    "            # Block 9: Input size -> (32, 512, 512)\n",
    "            nn.Conv2d(32, 16, 3, padding=1),\n",
    "            nn.LeakyReLU(0.2, inplace=True),\n",
    "            nn.Conv2d(16, 16, 3, padding=1),\n",
    "            nn.LeakyReLU(0.2, inplace=True),\n",
    "\n",
    "            # Output layer: Convert to 3 channels (RGB)\n",
    "            nn.Conv2d(16, 3, 1, padding=0),\n",
    "            nn.Tanh()  # Use Tanh to normalize the output between -1 and 1\n",
    "        )\n",
    "\n",
    "    def forward(self, z):\n",
    "        # Flatten the input tensor to shape (batch_size, latent_dim)\n",
    "        z = z.view(z.size(0), -1)\n",
    "        # Transform the latent vector into the initial feature map\n",
    "        out = self.l1(z)\n",
    "        out = out.view(out.shape[0], 512, self.init_size, self.init_size)\n",
    "        # Pass through the convolutional blocks\n",
    "        img = self.conv_blocks(out)\n",
    "        return img\n"
   ]
  },
  {
   "cell_type": "code",
   "execution_count": 7,
   "id": "f9bf64b1",
   "metadata": {},
   "outputs": [],
   "source": [
    "class MinibatchStdDev(nn.Module):\n",
    "    def forward(self, x):\n",
    "        batch_size, _, height, width = x.size()\n",
    "        stddev = torch.std(x, dim=0, keepdim=True)\n",
    "        stddev_mean = stddev.mean().view(1, 1, 1, 1)\n",
    "        stddev_mean = stddev_mean.expand(batch_size, 1, height, width)\n",
    "        return torch.cat([x, stddev_mean], 1)\n",
    "\n",
    "\n",
    "class Discriminator(nn.Module):\n",
    "    def __init__(self):\n",
    "        super(Discriminator, self).__init__()\n",
    "\n",
    "        def conv_block(in_channels, out_channels, kernel_size=3, stride=1, padding=1, use_leaky_relu=True):\n",
    "            layers = [\n",
    "                nn.Conv2d(in_channels, out_channels, kernel_size, stride, padding, bias=False),\n",
    "                nn.BatchNorm2d(out_channels)\n",
    "            ]\n",
    "            if use_leaky_relu:\n",
    "                layers.append(nn.LeakyReLU(0.2, inplace=True))\n",
    "            else:\n",
    "                layers.append(nn.ReLU(inplace=True))\n",
    "            return nn.Sequential(*layers)\n",
    "\n",
    "        self.conv_blocks = nn.Sequential(\n",
    "            conv_block(3, 16, kernel_size=1, stride=1, padding=0),  # 512x512\n",
    "            conv_block(16, 16),  # 512x512\n",
    "            conv_block(16, 32),  # 512x512\n",
    "            nn.AvgPool2d(2),  # 256x256\n",
    "            conv_block(32, 32),  # 256x256\n",
    "            conv_block(32, 64),  # 256x256\n",
    "            nn.AvgPool2d(2),  # 128x128\n",
    "            conv_block(64, 64),  # 128x128\n",
    "            conv_block(64, 128),  # 128x128\n",
    "            nn.AvgPool2d(2),  # 64x64\n",
    "            conv_block(128, 128),  # 64x64\n",
    "            conv_block(128, 256),  # 64x64\n",
    "            nn.AvgPool2d(2),  # 32x32\n",
    "            conv_block(256, 256),  # 32x32\n",
    "            conv_block(256, 512),  # 32x32\n",
    "            nn.AvgPool2d(2),  # 16x16\n",
    "            conv_block(512, 512),  # 16x16\n",
    "            conv_block(512, 512),  # 16x16\n",
    "            nn.AvgPool2d(2),  # 8x8\n",
    "            conv_block(512, 512),  # 8x8\n",
    "            conv_block(512, 512),  # 8x8\n",
    "            nn.AvgPool2d(2),  # 4x4\n",
    "            MinibatchStdDev(),  # 513x4x4\n",
    "            conv_block(513, 512),  # 4x4\n",
    "            nn.Conv2d(512, 512, kernel_size=4, stride=1, padding=0, bias=False),  # 1x1\n",
    "            nn.LeakyReLU(0.2, inplace=True)\n",
    "        )\n",
    "\n",
    "        self.fc = nn.Sequential(\n",
    "            nn.Linear(512, 1),\n",
    "            nn.Sigmoid()\n",
    "        )\n",
    "\n",
    "    def forward(self, img):\n",
    "        out = self.conv_blocks(img)\n",
    "        out = out.view(out.size(0), -1)\n",
    "        validity = self.fc(out)\n",
    "        return validity"
   ]
  },
  {
   "cell_type": "code",
   "execution_count": 8,
   "id": "b3bd58d5",
   "metadata": {
    "execution": {
     "iopub.execute_input": "2024-05-19T21:19:09.620326Z",
     "iopub.status.busy": "2024-05-19T21:19:09.619966Z"
    },
    "papermill": {
     "duration": null,
     "end_time": null,
     "exception": null,
     "start_time": null,
     "status": "pending"
    },
    "tags": []
   },
   "outputs": [
    {
     "name": "stderr",
     "output_type": "stream",
     "text": [
      "Epoch [1/200]: 100%|██████████| 360/360 [15:46<00:00,  2.63s/it, D_Loss=2.38e-7, G_Loss=-1]    \n"
     ]
    },
    {
     "name": "stdout",
     "output_type": "stream",
     "text": [
      "Epoch [1/200], Step [359/360], D Loss: 0.0000, G Loss: -1.0000\n"
     ]
    },
    {
     "name": "stderr",
     "output_type": "stream",
     "text": [
      "Epoch [2/200]: 100%|██████████| 360/360 [15:44<00:00,  2.62s/it, D_Loss=1.19e-7, G_Loss=-1]\n"
     ]
    },
    {
     "name": "stdout",
     "output_type": "stream",
     "text": [
      "Epoch [2/200], Step [359/360], D Loss: 0.0000, G Loss: -1.0000\n"
     ]
    },
    {
     "name": "stderr",
     "output_type": "stream",
     "text": [
      "Epoch [3/200]: 100%|██████████| 360/360 [15:40<00:00,  2.61s/it, D_Loss=0, G_Loss=-1]       \n"
     ]
    },
    {
     "name": "stdout",
     "output_type": "stream",
     "text": [
      "Epoch [3/200], Step [359/360], D Loss: 0.0000, G Loss: -1.0000\n"
     ]
    },
    {
     "name": "stderr",
     "output_type": "stream",
     "text": [
      "Epoch [4/200]: 100%|██████████| 360/360 [15:32<00:00,  2.59s/it, D_Loss=0, G_Loss=-1]\n"
     ]
    },
    {
     "name": "stdout",
     "output_type": "stream",
     "text": [
      "Epoch [4/200], Step [359/360], D Loss: 0.0000, G Loss: -1.0000\n"
     ]
    },
    {
     "name": "stderr",
     "output_type": "stream",
     "text": [
      "Epoch [5/200]: 100%|██████████| 360/360 [15:31<00:00,  2.59s/it, D_Loss=0, G_Loss=-1]\n"
     ]
    },
    {
     "name": "stdout",
     "output_type": "stream",
     "text": [
      "Epoch [5/200], Step [359/360], D Loss: 0.0000, G Loss: -1.0000\n"
     ]
    },
    {
     "name": "stderr",
     "output_type": "stream",
     "text": [
      "Epoch [6/200]: 100%|██████████| 360/360 [15:31<00:00,  2.59s/it, D_Loss=0, G_Loss=-1]\n"
     ]
    },
    {
     "name": "stdout",
     "output_type": "stream",
     "text": [
      "Epoch [6/200], Step [359/360], D Loss: 0.0000, G Loss: -1.0000\n"
     ]
    },
    {
     "name": "stderr",
     "output_type": "stream",
     "text": [
      "Epoch [7/200]: 100%|██████████| 360/360 [16:04<00:00,  2.68s/it, D_Loss=0, G_Loss=-1]\n"
     ]
    },
    {
     "name": "stdout",
     "output_type": "stream",
     "text": [
      "Epoch [7/200], Step [359/360], D Loss: 0.0000, G Loss: -1.0000\n"
     ]
    },
    {
     "name": "stderr",
     "output_type": "stream",
     "text": [
      "Epoch [8/200]: 100%|██████████| 360/360 [15:43<00:00,  2.62s/it, D_Loss=0, G_Loss=-1]\n"
     ]
    },
    {
     "name": "stdout",
     "output_type": "stream",
     "text": [
      "Epoch [8/200], Step [359/360], D Loss: 0.0000, G Loss: -1.0000\n"
     ]
    },
    {
     "name": "stderr",
     "output_type": "stream",
     "text": [
      "Epoch [9/200]: 100%|██████████| 360/360 [15:32<00:00,  2.59s/it, D_Loss=0, G_Loss=-1]\n"
     ]
    },
    {
     "name": "stdout",
     "output_type": "stream",
     "text": [
      "Epoch [9/200], Step [359/360], D Loss: 0.0000, G Loss: -1.0000\n"
     ]
    },
    {
     "name": "stderr",
     "output_type": "stream",
     "text": [
      "Epoch [10/200]: 100%|██████████| 360/360 [15:42<00:00,  2.62s/it, D_Loss=0, G_Loss=-1]\n"
     ]
    },
    {
     "name": "stdout",
     "output_type": "stream",
     "text": [
      "Epoch [10/200], Step [359/360], D Loss: 0.0000, G Loss: -1.0000\n"
     ]
    },
    {
     "name": "stderr",
     "output_type": "stream",
     "text": [
      "Epoch [11/200]: 100%|██████████| 360/360 [16:06<00:00,  2.68s/it, D_Loss=0, G_Loss=-1]\n"
     ]
    },
    {
     "name": "stdout",
     "output_type": "stream",
     "text": [
      "Epoch [11/200], Step [359/360], D Loss: 0.0000, G Loss: -1.0000\n"
     ]
    },
    {
     "name": "stderr",
     "output_type": "stream",
     "text": [
      "Epoch [12/200]: 100%|██████████| 360/360 [16:03<00:00,  2.68s/it, D_Loss=0, G_Loss=-1]\n"
     ]
    },
    {
     "name": "stdout",
     "output_type": "stream",
     "text": [
      "Epoch [12/200], Step [359/360], D Loss: 0.0000, G Loss: -1.0000\n"
     ]
    },
    {
     "name": "stderr",
     "output_type": "stream",
     "text": [
      "Epoch [13/200]: 100%|██████████| 360/360 [16:02<00:00,  2.67s/it, D_Loss=0, G_Loss=-1]\n"
     ]
    },
    {
     "name": "stdout",
     "output_type": "stream",
     "text": [
      "Epoch [13/200], Step [359/360], D Loss: 0.0000, G Loss: -1.0000\n"
     ]
    },
    {
     "name": "stderr",
     "output_type": "stream",
     "text": [
      "Epoch [14/200]: 100%|██████████| 360/360 [16:05<00:00,  2.68s/it, D_Loss=0, G_Loss=-1]\n"
     ]
    },
    {
     "name": "stdout",
     "output_type": "stream",
     "text": [
      "Epoch [14/200], Step [359/360], D Loss: 0.0000, G Loss: -1.0000\n"
     ]
    },
    {
     "name": "stderr",
     "output_type": "stream",
     "text": [
      "Epoch [15/200]: 100%|██████████| 360/360 [16:05<00:00,  2.68s/it, D_Loss=0, G_Loss=-1]\n"
     ]
    },
    {
     "name": "stdout",
     "output_type": "stream",
     "text": [
      "Epoch [15/200], Step [359/360], D Loss: 0.0000, G Loss: -1.0000\n"
     ]
    },
    {
     "name": "stderr",
     "output_type": "stream",
     "text": [
      "Epoch [16/200]: 100%|██████████| 360/360 [16:03<00:00,  2.68s/it, D_Loss=0, G_Loss=-1]\n"
     ]
    },
    {
     "name": "stdout",
     "output_type": "stream",
     "text": [
      "Epoch [16/200], Step [359/360], D Loss: 0.0000, G Loss: -1.0000\n"
     ]
    },
    {
     "name": "stderr",
     "output_type": "stream",
     "text": [
      "Epoch [17/200]: 100%|██████████| 360/360 [16:03<00:00,  2.68s/it, D_Loss=0, G_Loss=-1]\n"
     ]
    },
    {
     "name": "stdout",
     "output_type": "stream",
     "text": [
      "Epoch [17/200], Step [359/360], D Loss: 0.0000, G Loss: -1.0000\n"
     ]
    },
    {
     "name": "stderr",
     "output_type": "stream",
     "text": [
      "Epoch [18/200]: 100%|██████████| 360/360 [16:03<00:00,  2.68s/it, D_Loss=0, G_Loss=-1]\n"
     ]
    },
    {
     "name": "stdout",
     "output_type": "stream",
     "text": [
      "Epoch [18/200], Step [359/360], D Loss: 0.0000, G Loss: -1.0000\n"
     ]
    },
    {
     "name": "stderr",
     "output_type": "stream",
     "text": [
      "Epoch [19/200]: 100%|██████████| 360/360 [16:02<00:00,  2.67s/it, D_Loss=0, G_Loss=-1]\n"
     ]
    },
    {
     "name": "stdout",
     "output_type": "stream",
     "text": [
      "Epoch [19/200], Step [359/360], D Loss: 0.0000, G Loss: -1.0000\n"
     ]
    },
    {
     "name": "stderr",
     "output_type": "stream",
     "text": [
      "Epoch [20/200]: 100%|██████████| 360/360 [16:03<00:00,  2.68s/it, D_Loss=0, G_Loss=-1]\n"
     ]
    },
    {
     "name": "stdout",
     "output_type": "stream",
     "text": [
      "Epoch [20/200], Step [359/360], D Loss: 0.0000, G Loss: -1.0000\n"
     ]
    },
    {
     "name": "stderr",
     "output_type": "stream",
     "text": [
      "Epoch [21/200]: 100%|██████████| 360/360 [16:03<00:00,  2.68s/it, D_Loss=0, G_Loss=-1]\n"
     ]
    },
    {
     "name": "stdout",
     "output_type": "stream",
     "text": [
      "Epoch [21/200], Step [359/360], D Loss: 0.0000, G Loss: -1.0000\n"
     ]
    },
    {
     "name": "stderr",
     "output_type": "stream",
     "text": [
      "Epoch [22/200]: 100%|██████████| 360/360 [16:03<00:00,  2.68s/it, D_Loss=0, G_Loss=-1]\n"
     ]
    },
    {
     "name": "stdout",
     "output_type": "stream",
     "text": [
      "Epoch [22/200], Step [359/360], D Loss: 0.0000, G Loss: -1.0000\n"
     ]
    },
    {
     "name": "stderr",
     "output_type": "stream",
     "text": [
      "Epoch [23/200]: 100%|██████████| 360/360 [16:01<00:00,  2.67s/it, D_Loss=0, G_Loss=-1]\n"
     ]
    },
    {
     "name": "stdout",
     "output_type": "stream",
     "text": [
      "Epoch [23/200], Step [359/360], D Loss: 0.0000, G Loss: -1.0000\n"
     ]
    },
    {
     "name": "stderr",
     "output_type": "stream",
     "text": [
      "Epoch [24/200]: 100%|██████████| 360/360 [16:02<00:00,  2.67s/it, D_Loss=0, G_Loss=-1]\n"
     ]
    },
    {
     "name": "stdout",
     "output_type": "stream",
     "text": [
      "Epoch [24/200], Step [359/360], D Loss: 0.0000, G Loss: -1.0000\n"
     ]
    },
    {
     "name": "stderr",
     "output_type": "stream",
     "text": [
      "Epoch [25/200]: 100%|██████████| 360/360 [16:03<00:00,  2.68s/it, D_Loss=0, G_Loss=-1]\n"
     ]
    },
    {
     "name": "stdout",
     "output_type": "stream",
     "text": [
      "Epoch [25/200], Step [359/360], D Loss: 0.0000, G Loss: -1.0000\n"
     ]
    },
    {
     "name": "stderr",
     "output_type": "stream",
     "text": [
      "Epoch [26/200]: 100%|██████████| 360/360 [16:02<00:00,  2.67s/it, D_Loss=0, G_Loss=-1]\n"
     ]
    },
    {
     "name": "stdout",
     "output_type": "stream",
     "text": [
      "Epoch [26/200], Step [359/360], D Loss: 0.0000, G Loss: -1.0000\n"
     ]
    },
    {
     "name": "stderr",
     "output_type": "stream",
     "text": [
      "Epoch [27/200]: 100%|██████████| 360/360 [16:03<00:00,  2.68s/it, D_Loss=0, G_Loss=-1]\n"
     ]
    },
    {
     "name": "stdout",
     "output_type": "stream",
     "text": [
      "Epoch [27/200], Step [359/360], D Loss: 0.0000, G Loss: -1.0000\n"
     ]
    },
    {
     "name": "stderr",
     "output_type": "stream",
     "text": [
      "Epoch [28/200]:  49%|████▉     | 178/360 [07:56<08:08,  2.68s/it, D_Loss=0, G_Loss=-1]"
     ]
    }
   ],
   "source": [
    "netG = Generator()\n",
    "netD = Discriminator()\n",
    "\n",
    "netG.to(device)\n",
    "netD.to(device)\n",
    "\n",
    "# Define training parameters\n",
    "num_epochs = 200\n",
    "device = torch.device(\"cuda\" if torch.cuda.is_available() else \"cpu\")\n",
    "\n",
    "# Define optimizer parameters\n",
    "lr = 0.001\n",
    "beta1 = 0.0\n",
    "beta2 = 0.99\n",
    "epsilon = 1e-8\n",
    "n_critic = 1\n",
    "\n",
    "# Initialize optimizers\n",
    "optimizerG = optim.Adam(netG.parameters(), lr=lr, betas=(beta1, beta2), eps=epsilon)\n",
    "optimizerD = optim.Adam(netD.parameters(), lr=lr, betas=(beta1, beta2), eps=epsilon)\n",
    "\n",
    "# To track the moving average of the generator and discriminator losses\n",
    "loss_window_G = deque(maxlen=5)\n",
    "loss_window_D = deque(maxlen=5)\n",
    "\n",
    "def compute_gradient_penalty(D, real_samples, fake_samples):\n",
    "    alpha = torch.rand(real_samples.size(0), 1, 1, 1, device=real_samples.device)\n",
    "    interpolates = (alpha * real_samples + ((1 - alpha) * fake_samples)).requires_grad_(True)\n",
    "    d_interpolates = D(interpolates)\n",
    "    fake = Variable(torch.ones(real_samples.size(0), 1, device=real_samples.device), requires_grad=False)\n",
    "    \n",
    "    gradients = grad(outputs=d_interpolates, inputs=interpolates,\n",
    "                     grad_outputs=fake, create_graph=True, retain_graph=True, only_inputs=True)[0]\n",
    "    gradients = gradients.view(gradients.size(0), -1)\n",
    "    gradient_penalty = ((gradients.norm(2, dim=1) - 1) ** 2).mean()\n",
    "    \n",
    "    return gradient_penalty\n",
    "\n",
    "# Training loop\n",
    "for epoch in range(num_epochs):\n",
    "    epoch_lossG = 0\n",
    "    epoch_lossD = 0\n",
    "    loader = tqdm(enumerate(unlabeled_loader), total=len(unlabeled_loader), desc=f'Epoch [{epoch+1}/{num_epochs}]') if debug_mode else enumerate(unlabeled_loader)\n",
    "    \n",
    "    for i, (images, img_path) in loader:\n",
    "        # Move real masks to device\n",
    "#         real_masks = masks.to(device)\n",
    "        real_images = images.to(device)\n",
    "        batch_size = real_images.size(0)\n",
    "\n",
    "        # Create labels\n",
    "        real_labels = torch.full((batch_size,), 1.0, device=device)\n",
    "        fake_labels = torch.full((batch_size,), 0.0, device=device)\n",
    "\n",
    "        ##########################\n",
    "        # Train Discriminator\n",
    "        ##########################\n",
    "        netD.zero_grad()\n",
    "\n",
    "        # Forward pass real masks through Discriminator\n",
    "#         output_real = netD(real_masks).view(-1)\n",
    "        output_real = netD(real_images).view(-1)\n",
    "        lossD_real = -torch.mean(output_real)\n",
    "        lossD_real.backward()\n",
    "\n",
    "        # Generate fake masks with Generator\n",
    "        seed = torch.rand(batch_size, 1024, 1, 1, device=device)\n",
    "#         fake_masks = netG(seed).detach()\n",
    "        fake_images = netG(seed).detach()\n",
    "\n",
    "        # Forward pass fake masks through Discriminator\n",
    "#         output_fake = netD(fake_masks).view(-1)\n",
    "        output_fake = netD(fake_images).view(-1)\n",
    "        lossD_fake = torch.mean(output_fake)\n",
    "        lossD_fake.backward()\n",
    "\n",
    "        # Compute gradient penalty\n",
    "#         gradient_penalty = compute_gradient_penalty(netD, real_masks.data, fake_masks.data)\n",
    "        gradient_penalty = compute_gradient_penalty(netD, real_images.data, fake_images.data)\n",
    "        gradient_penalty.backward()\n",
    "\n",
    "        # Update Discriminator\n",
    "        optimizerD.step()\n",
    "\n",
    "        ##########################\n",
    "        # Train Generator\n",
    "        ##########################\n",
    "        netG.zero_grad()\n",
    "\n",
    "        # Forward pass fake masks through Discriminator\n",
    "#         output = netD(fake_masks).view(-1)\n",
    "        output = netD(fake_images).view(-1)\n",
    "        lossG = -torch.mean(output)\n",
    "        lossG.backward()\n",
    "\n",
    "        # Update Generator\n",
    "        optimizerG.step()\n",
    "\n",
    "        epoch_lossG += lossG.item()\n",
    "\n",
    "        epoch_lossD += (lossD_real.item() + lossD_fake.item())\n",
    "\n",
    "        # Print training stats\n",
    "        if debug_mode:\n",
    "            loader.set_postfix(D_Loss=lossD_real.item() + lossD_fake.item(), G_Loss=lossG.item())\n",
    "    \n",
    "    print(f'Epoch [{epoch+1}/{num_epochs}], Step [{i}/{len(unlabeled_loader)}], '\n",
    "        f'D Loss: {lossD_real.item() + lossD_fake.item():.4f}, G Loss: {lossG.item():.4f}')\n",
    "    \n",
    "    avg_lossG = epoch_lossG / len(unlabeled_loader)\n",
    "    avg_lossD = epoch_lossD / len(unlabeled_loader)\n",
    "    loss_window_G.append(avg_lossG)\n",
    "    loss_window_D.append(avg_lossD)\n",
    "    \n",
    "    # Step the learning rate schedulers\n",
    "    # Note: Learning rate schedulers are not used in the original code, so they are omitted here\n",
    "    \n",
    "    # Save model weights if the current average loss is less than the moving average\n",
    "    if len(loss_window_G) == loss_window_G.maxlen and len(loss_window_D) == loss_window_D.maxlen:\n",
    "        moving_avg_lossG = np.mean(loss_window_G)\n",
    "        moving_avg_lossD = np.mean(loss_window_D)\n",
    "        if avg_lossG < moving_avg_lossG and avg_lossD < moving_avg_lossD:\n",
    "            torch.save(netG.state_dict(), weights_save_dir + 'netG_best.pth')\n",
    "            torch.save(netD.state_dict(), weights_save_dir + 'netD_best.pth')\n",
    "            print(f'Saved models at epoch {epoch+1}, G Loss: {avg_lossG:.4f}, D Loss: {avg_lossD:.4f}, '\n",
    "                  f'Moving Avg G Loss: {moving_avg_lossG:.4f}, Moving Avg D Loss: {moving_avg_lossD:.4f}')\n",
    "\n",
    "print(\"Training finished!\")"
   ]
  }
 ],
 "metadata": {
  "kaggle": {
   "accelerator": "gpu",
   "dataSources": [
    {
     "datasetId": 5035977,
     "sourceId": 8450500,
     "sourceType": "datasetVersion"
    }
   ],
   "dockerImageVersionId": 30699,
   "isGpuEnabled": true,
   "isInternetEnabled": false,
   "language": "python",
   "sourceType": "notebook"
  },
  "kernelspec": {
   "display_name": "Python 3",
   "language": "python",
   "name": "python3"
  },
  "language_info": {
   "codemirror_mode": {
    "name": "ipython",
    "version": 3
   },
   "file_extension": ".py",
   "mimetype": "text/x-python",
   "name": "python",
   "nbconvert_exporter": "python",
   "pygments_lexer": "ipython3",
   "version": "3.11.5"
  },
  "papermill": {
   "default_parameters": {},
   "duration": 12.050106,
   "end_time": "2024-05-20T03:25:38.006171",
   "environment_variables": {},
   "exception": true,
   "input_path": "__notebook__.ipynb",
   "output_path": "__notebook__.ipynb",
   "parameters": {},
   "start_time": "2024-05-20T03:25:25.956065",
   "version": "2.5.0"
  }
 },
 "nbformat": 4,
 "nbformat_minor": 5
}
